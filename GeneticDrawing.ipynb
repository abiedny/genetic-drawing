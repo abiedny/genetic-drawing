{
 "cells": [
  {
   "cell_type": "code",
   "execution_count": 1,
   "metadata": {},
   "outputs": [],
   "source": [
    "import cv2\n",
    "import os\n",
    "import time\n",
    "import subprocess\n",
    "from IPython.display import clear_output\n",
    "from genetic_drawing import *"
   ]
  },
  {
   "cell_type": "code",
   "execution_count": 2,
   "metadata": {
    "tags": []
   },
   "outputs": [
    {
     "output_type": "stream",
     "name": "stdout",
     "text": "Stage  200 . Generation  20 / 20\n"
    }
   ],
   "source": [
    "#load the example image and set the generator for 100 stages with 20 generations each\n",
    "gen = GeneticDrawing('mother_sophia_down.jpg', seed=time.time())\n",
    "out = gen.generate(200, 20)"
   ]
  },
  {
   "cell_type": "code",
   "execution_count": 3,
   "metadata": {
    "tags": []
   },
   "outputs": [
    {
     "output_type": "stream",
     "name": "stdout",
     "text": "Stage  50 . Generation  35 / 35\n"
    }
   ],
   "source": [
    "#load a custom mask and set a smaller brush size for finer details\n",
    "gen.sampling_mask = cv2.cvtColor(cv2.imread(\"mask_beach.jpg\"), cv2.COLOR_BGR2GRAY)\n",
    "gen.brushesRange = [[0.05, 0.1], [0.1, 0.2]]\n",
    "#keep drawing on top of our previous result\n",
    "out = gen.generate(50, 35)"
   ]
  },
  {
   "cell_type": "code",
   "execution_count": 6,
   "metadata": {
    "tags": []
   },
   "outputs": [
    {
     "output_type": "stream",
     "name": "stdout",
     "text": "Stage  50 . Generation  25 / 25\n"
    }
   ],
   "source": [
    "gen.brushesRange = [[0.025, 0.05], [0.05, 0.1]]\n",
    "out = gen.generate(50, 25)"
   ]
  },
  {
   "cell_type": "code",
   "execution_count": 7,
   "metadata": {},
   "outputs": [
    {
     "output_type": "execute_result",
     "data": {
      "text/plain": "CompletedProcess(args=['ffmpeg', '-i', '%06d.png', '-loop', '-1', 'out.gif'], returncode=1)"
     },
     "metadata": {},
     "execution_count": 7
    }
   ],
   "source": [
    "#save all the images from the image buffer\n",
    "if not os.path.exists('out'):\n",
    "    os.mkdir(\"out\")\n",
    "for i in range(len(gen.imgBuffer)):\n",
    "    cv2.imwrite(os.path.join(\"out\", f\"{i:06d}.png\"), gen.imgBuffer[i])\n",
    "#if you want to save only last image, run below\n",
    "cv2.imwrite(\"out/final.png\", out)\n",
    "#also make a gif of the draw\n",
    "subprocess.run([\"ffmpeg\", \"-i\", \"out/%06d.png\", \"-loop\", \"-1\", \"out.gif\"])"
   ]
  }
 ],
 "metadata": {
  "kernelspec": {
   "display_name": "Python 3",
   "language": "python",
   "name": "python3"
  },
  "language_info": {
   "codemirror_mode": {
    "name": "ipython",
    "version": 3
   },
   "file_extension": ".py",
   "mimetype": "text/x-python",
   "name": "python",
   "nbconvert_exporter": "python",
   "pygments_lexer": "ipython3",
   "version": "3.6.9"
  }
 },
 "nbformat": 4,
 "nbformat_minor": 2
}